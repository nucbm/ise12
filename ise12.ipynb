{
  "nbformat": 4,
  "nbformat_minor": 0,
  "metadata": {
    "colab": {
      "provenance": [],
      "authorship_tag": "ABX9TyOr9BmojJGdKaW1/+i6tSAE",
      "include_colab_link": true
    },
    "kernelspec": {
      "name": "python3",
      "display_name": "Python 3"
    },
    "language_info": {
      "name": "python"
    }
  },
  "cells": [
    {
      "cell_type": "markdown",
      "metadata": {
        "id": "view-in-github",
        "colab_type": "text"
      },
      "source": [
        "<a href=\"https://colab.research.google.com/github/nucbm/ise12/blob/main/ise12.ipynb\" target=\"_parent\"><img src=\"https://colab.research.google.com/assets/colab-badge.svg\" alt=\"Open In Colab\"/></a>"
      ]
    },
    {
      "cell_type": "code",
      "execution_count": null,
      "metadata": {
        "colab": {
          "base_uri": "https://localhost:8080/"
        },
        "id": "HNnAFin0T3sD",
        "outputId": "67a76e83-b10f-4407-d6d1-b2bbf9bae3e9"
      },
      "outputs": [
        {
          "output_type": "stream",
          "name": "stdout",
          "text": [
            "Bună, lume!\n",
            "Suma: 30\n"
          ]
        }
      ],
      "source": [
        "print(\"Bună, lume!\")\n",
        "x = 10\n",
        "y = 20\n",
        "print(f\"Suma: {x + y}\")"
      ]
    },
    {
      "cell_type": "code",
      "source": [
        "# Exemplul 1 - cuvinte cheie: if, elif, else, for, try, except, print\n",
        "def verificare_numar(n):\n",
        "    try:\n",
        "        for i in range(n):\n",
        "            if i % 2 == 0:\n",
        "                print(f\"{i} este par\")\n",
        "            elif i % 3 == 0:\n",
        "                print(f\"{i} este multiplu de 3\")\n",
        "            else:\n",
        "                print(f\"{i} este impar\")\n",
        "    except TypeError:\n",
        "        print(\"Eroare: Valoarea introdusă nu este un număr întreg.\")\n",
        "\n",
        "verificare_numar(5)"
      ],
      "metadata": {
        "colab": {
          "base_uri": "https://localhost:8080/"
        },
        "id": "mo84wfRpZg0A",
        "outputId": "eb33d2d3-6d8a-4f51-be23-34603929d5a8"
      },
      "execution_count": 2,
      "outputs": [
        {
          "output_type": "stream",
          "name": "stdout",
          "text": [
            "0 este par\n",
            "1 este impar\n",
            "2 este par\n",
            "3 este multiplu de 3\n",
            "4 este par\n"
          ]
        }
      ]
    }
  ]
}